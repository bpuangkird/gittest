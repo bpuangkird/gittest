{
 "cells": [
  {
   "cell_type": "markdown",
   "id": "1fc45750-6530-4a8a-845b-5b4a8a8347af",
   "metadata": {},
   "source": [
    "<center><img src=\"https://campus.campus-star.com/app/uploads/2015/09/logo-KMITL-1-1.jpg\" width=160></center>"
   ]
  },
  {
   "cell_type": "markdown",
   "id": "fcda3efe-c540-4595-974f-9311426ff391",
   "metadata": {},
   "source": [
    "<center> <b>คณะวิศวกรรมศาสตร์<br>สถาบันเทคโนโลยีพระจอมเกล้าเจ้าคุณทหารลาดกระบัง<br>การวัดผลภาคเรียนที่ 2 ปีการศึกษา 2564 <br> 01006002 Engineering Mathematics 2 กลุ่ม 51 วิศวกรรมโยธา (ต่อเนื่อง)<br>กำหนดส่งภายในเวลา 16.00 น. วันเสาร์ที่ 4 มิถุนายน 2565</center>"
   ]
  },
  {
   "cell_type": "markdown",
   "id": "af225351-4579-4cae-b366-06831270fa09",
   "metadata": {},
   "source": [
    "<u><b>คำสั่ง</b></u> โจทย์ปัญหามีทั้งหมด 5 ข้อ ให้นักศึกษาทำทุกข้อ โดยที่แต่ละข้อมีคะแนนน้ำหนักกำกับอยู่ คะแนนที่ได้ไม่ได้ขึ้นอยู่กับผลเฉลยที่ได้อย่างเดียว คะแนนขึ้นกับรายละเอียดที่แสดงขบวนการคิดหาคำตอบอย่างชัดเจน ให้ส่งคำตอบมาในรูปของไฟล์ pdf ผ่าน MS Teams โดยให้เขียนโจทย์ลงมาด้วย กรุณาทำโจทย์ปัญหาด้วยตัวเองเท่านั้น คำตอบพี่พิจารณาแล้วว่าลอกกันมา คะแนนที่ได้ถูกหารด้วยจำนวนชุดข้อสอบที่ลอกกัน และถือว่าเป็นที่สุดแล้ว ไม่มีการโต้แย้ง"
   ]
  },
  {
   "cell_type": "markdown",
   "id": "bc6d0847-e34a-4290-b42f-afe7b2b6042f",
   "metadata": {},
   "source": [
    "---"
   ]
  },
  {
   "cell_type": "markdown",
   "id": "5827dc4e-fcb9-4096-a463-22679977c438",
   "metadata": {},
   "source": [
    "ข้อที่ 1. (20 คะแนน) อธิบายต่อไปนี้อย่างละเอียด\n",
    "\n",
    "* ทฤษฎีบทมูลฐาน เป็นคำอธิบายโดยไม่ใช้สูตรสมการเลย ให้ครบทั้งเงื่อนไขและความหมาย\n",
    "* ทฤษฎีการสร้างปฏิยานุพันธ์\n",
    "* ความไม่ต่อเนื่องของฟังก์ชัน การหาไม่ได้ของลิมิตของฟังก์ชัน และการหาไม่ได้ของอนุพันธ์ของฟังก์ชัน\n",
    "* การประมาณเชิงเส้น\n",
    "* ขั้นตอนการสร้างแบบจำลองทางคณิตศาสตร์"
   ]
  },
  {
   "cell_type": "markdown",
   "id": "3827abc1-0083-46df-9f93-01f98d7e51cc",
   "metadata": {},
   "source": [
    "---"
   ]
  },
  {
   "cell_type": "markdown",
   "id": "631d41a4-cf3f-46d9-bb8c-824550cad050",
   "metadata": {},
   "source": [
    "ข้อที่ 2. (20 คะแนน) ให้หาปริพันธ์ของฟังก์ชัน\n",
    "\n",
    "$$\\begin{array}{|l|c|c|}\n",
    "\\hline\n",
    "& \\qquad \\qquad \\qquad \\text{เทคนิคที่ใช้ทั้งหมด} \\qquad \\qquad \\qquad & \\qquad \\qquad \\qquad \\textbf{ผลเฉลย} \\qquad \\qquad \\qquad \\\\\n",
    "\\hline\n",
    "\\int {1 \\over \\sin{x}} \\, dx & & \\\\\n",
    "\\hline\n",
    "\\int \\cos^2{(ax)} \\, dx & & \\\\\n",
    "\\hline\n",
    "\\int_1^{\\infty} {1 \\over x^{2.5}} \\, dx & & \\\\\n",
    "\\hline\n",
    "\\int {\\sin{x} \\over x} \\, dx & & \\\\\n",
    "\\hline\n",
    "\\int x^3 \\log{x} \\, dx & & \\\\\n",
    "\\hline\n",
    "\\int \\sin^{-1}{x} \\, dx & & \\\\\n",
    "\\hline\n",
    "\\int_0^{\\pi/2} \\sqrt{\\cos{x}} \\sin^3{x} \\, dx & & \\\\\n",
    "\\hline\n",
    "\\end{array}$$"
   ]
  },
  {
   "cell_type": "markdown",
   "id": "d416259e-d386-4f23-9576-c65da67cab80",
   "metadata": {},
   "source": [
    "---"
   ]
  },
  {
   "cell_type": "markdown",
   "id": "fe76565e-fd12-4421-a7bf-8d32b7a95280",
   "metadata": {},
   "source": [
    "ข้อที่ 3. (20 คะแนน) <b>การผลิตแผ่นโลหะลูกฟูก</b>\n",
    "\n",
    "แผ่นลูกฟูกบางยี่ห้อ\n",
    "ทำจากแผ่นเมทัลชีท สร้างมาในขนาด 20 นิ้ว 48 นิ้ว ภาตัดขวาง\n",
    "ส่วนของแผ่นงานสามารถอธิบายได้ด้วยกราฟของ\n",
    "\n",
    "$$ y = \\sin{\\dfrac{1}{2}t} \\qquad 0 \\le t \\le 20$$\n",
    "\n",
    "ใช้เครื่องคิดเลขหรือคอมพิวเตอร์หาความยาวโดยประมาณ\n",
    "ของแผ่นโลหะแบนก่อนการผลิต\n",
    "\n",
    "<center><img src=\"https://drive.google.com/uc?id=1Vzp1Q66iKklLCIzaGX8nqLDFY9MZRjW9\" width=400></center>"
   ]
  },
  {
   "cell_type": "markdown",
   "id": "0ab295c6-230c-4922-bfe6-781ad6792517",
   "metadata": {},
   "source": [
    "---"
   ]
  },
  {
   "cell_type": "markdown",
   "id": "7029d7b5-f4b2-421f-8585-4df45cb2d924",
   "metadata": {},
   "source": [
    "ข้อที่ 4. (20 คะแนน) <b>พีระมิดคูฟู (หรือที่เรียกว่ามหาพีระมิดแห่งกิซ่า)</b>\n",
    "เป็นที่เก่าแก่ที่สุดในเจ็ดสิ่งมหัศจรรย์ของโลกโบราณ ยังเป็น\n",
    "พีระมิดแห่งกิซ่าที่สูงที่สุดในอียิปต์ ปิรามิดใช้\n",
    "20 ปีในการสร้าง สิ้นสุดประมาณ 2560 ปีก่อนคริสตกาล เมื่อมันถูกสร้างขึ้นมัน\n",
    "มีความสูง 481 ฟุต และฐานสี่เหลี่ยมยาวด้าน 756\n",
    "ฟุต สมมุติว่าหินก้อนนี้ใช้สร้างหนัก 150 ปอนด์\n",
    "ต่อลูกบาศก์ฟุต\n",
    "\n",
    "<center><img src=\"https://drive.google.com/uc?id=10q5SxqdWvQY2qN2mHW1DTLeyEw_Sqx42\" width=380></center>\n",
    "\n",
    "(ก) ต้องทำงานมากเพียงใดเพื่อสร้างปิรามิดให้เสร็จ\n",
    "\n",
    "(ข) สมมติว่าผู้สร้างพีระมิดทำงาน 12 ชั่วโมงในแต่ละวัน\n",
    "ปีละ 330 วัน เป็นเวลา 20 ปี และคนงานแต่ละคนทำ\n",
    "งาน 200 ฟุตปอนด์ต่อชั่วโมง ประมาณจำนวน\n",
    "คนงานจำเป็นต้องสร้างปิรามิดนี้\n",
    "\n"
   ]
  },
  {
   "cell_type": "markdown",
   "id": "3063efae-7357-4463-b67d-8a9d4ac92665",
   "metadata": {},
   "source": [
    "---"
   ]
  },
  {
   "cell_type": "markdown",
   "id": "d82af675-3767-4ace-8bf8-94e428e60e54",
   "metadata": {},
   "source": [
    "ข้อที่ 5. (20 คะแนน) <b>พื้นที่สูงสุด</b>\n",
    "\n",
    "หน้าต่างนอร์มันถูกสร้างขึ้นโดย\n",
    "ต่อครึ่งวงกลมกับด้านบนของสี่เหลี่ยมธรรมดา\n",
    "หน้าต่าง (ดูรูป) จงหามิติของหน้าต่างนอร์มันเมื่อ\n",
    "หน้าต่างมีพื้นที่สูงสุดเมื่อเส้นรอบหน้าต่างยาวรวม 16 ฟุต\n",
    "\n",
    "<center><img src=\"https://drive.google.com/uc?id=1aln1nmwTmBktrKS_5PXp4spcC3XjnyAk\" width=480></center>"
   ]
  },
  {
   "cell_type": "markdown",
   "id": "2bd0bdf1-0ce0-45d1-ace6-a93e30f1580b",
   "metadata": {},
   "source": [
    "---\n",
    "---"
   ]
  },
  {
   "cell_type": "code",
   "execution_count": null,
   "id": "bd9fef9f-559d-479b-a2a3-9587a0fa71a4",
   "metadata": {},
   "outputs": [],
   "source": []
  }
 ],
 "metadata": {
  "kernelspec": {
   "display_name": "Python 3",
   "language": "python",
   "name": "python3"
  },
  "language_info": {
   "codemirror_mode": {
    "name": "ipython",
    "version": 3
   },
   "file_extension": ".py",
   "mimetype": "text/x-python",
   "name": "python",
   "nbconvert_exporter": "python",
   "pygments_lexer": "ipython3",
   "version": "3.8.8"
  }
 },
 "nbformat": 4,
 "nbformat_minor": 5
}
